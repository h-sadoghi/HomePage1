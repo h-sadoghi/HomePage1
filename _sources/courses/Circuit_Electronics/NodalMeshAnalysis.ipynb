{
 "cells": [
  {
   "cell_type": "markdown",
   "metadata": {},
   "source": [
    "# Basic Nodal and Mesh Analysis"
   ]
  },
  {
   "cell_type": "markdown",
   "metadata": {},
   "source": [
    "### **Nodal Analysis**\n",
    "\n",
    "Nodal analysis is a powerful circuit analysis method based on Kirchhoff's Current Law (KCL). Initially, we examined simple circuits with two nodes, obtaining a single voltage equation. As the number of nodes increases, each additional node introduces an unknown voltage and a corresponding KCL equation. For example, a three-node circuit has two unknown voltages and two equations, while an N-node circuit requires (N-1) voltages and (N-1) equations. The process involves designating a reference node, typically the one connected to the most branches or a ground node. The voltage at each node is then calculated relative to this reference node.\n",
    "\n",
    "![Nodal 1](../Circuit_Electronics/CircuitElectronicsImages/Nodal1.PNG)\n",
    "\n",
    "\n",
    "$$\n",
    "\\frac{v_1}{2} + \\frac{v_1 - v_2}{5} = 3.1\n",
    "$$\n",
    "\n",
    "$$\n",
    "\\frac{v_2}{1} + \\frac{v_2 - v_1}{5} = 1.4\n",
    "$$\n"
   ]
  },
  {
   "cell_type": "markdown",
   "metadata": {},
   "source": [
    "Example 1: Nodal\n",
    "\n",
    "![Nodal 2_exa](../Circuit_Electronics/CircuitElectronicsImages/Nodal%202.PNG)\n",
    "\n",
    "**At node 1:**\n",
    "\n",
    "$$\n",
    "-8-3 = \\frac{v1 - v2}{3} + \\frac{v1 - v3}{4}\n",
    "$$\n",
    "\n",
    "**At node 2:**\n",
    "\n",
    "$$\n",
    "-3 = \\frac{v2 - v1}{3} + \\frac{v2}{1} + \\frac{v2 - v3}{3}\n",
    "$$\n",
    "\n",
    "**At node 3:**\n",
    "\n",
    "$$\n",
    "-(-25) = \\frac{v_3}{5} + \\frac{(v_3 - v_2)}{7} + \\frac{(v_3 - v_1)}{4}\n",
    "$$"
   ]
  }
 ],
 "metadata": {
  "language_info": {
   "name": "python"
  }
 },
 "nbformat": 4,
 "nbformat_minor": 2
}
