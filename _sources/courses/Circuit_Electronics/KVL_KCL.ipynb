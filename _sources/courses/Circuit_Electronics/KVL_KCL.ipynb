{
 "cells": [
  {
   "cell_type": "markdown",
   "metadata": {},
   "source": [
    "# Voltage , Current\n",
    "\n"
   ]
  },
  {
   "cell_type": "markdown",
   "metadata": {},
   "source": [
    "**Current** is the rate at which charge flows through a circuit, measured in amperes (amps) and denoted by \"I\". It is defined as \\( I = \\frac{\\Delta Q}{\\Delta t} \\), where \\( \\Delta Q \\) is the change in charge and \\( \\Delta t \\) is the change in time.\n",
    "\n",
    "Charge conservation means that while charges move, they are neither created nor destroyed. But in radar system is denied\n",
    "\n",
    "Current has both magnitude and direction. Although historically associated with positive charge movement, it is now understood to result from negative charge motion. One ampere equals one coulomb per second.\n",
    "\n",
    "Total charge transferred over time is given by \\( q(t) = \\int_{t0}^{t} i \\, dt + q(t0) \\).\n",
    "\n",
    "The relationship between current in antenna circuits and charge conservation can be summarized as follows:\n",
    "\n",
    "**Charge Conservation**:\n",
    "- **Principle**: In general electrical systems, charge conservation means that charge is neither created nor destroyed; it is only redistributed. The total amount of charge remains constant over time.\n",
    "\n",
    "**Voltage**\n",
    "Voltage in a circuit is defined as the potential difference between two terminals of a circuit element. This potential difference represents the work required to move charge through the element and is measured in volts (V), where 1 volt equals 1 joule per coulomb.\n",
    "\n",
    "**Power**\n",
    "Power (\\(p\\)) is defined as the rate of energy transfer, measured in watts (W). It is calculated as the product of voltage (\\(v\\)) and current (\\(i\\)), expressed by \\(p = vi\\). This relationship ensures that power is dimensionally equivalent to joules per second. The power absorbed by a circuit element depends on both the current flowing through it and the voltage across it. The direction of the current is crucial for determining energy transfer, and examples of power calculations are based on specifying the current direction.\n",
    "\n",
    "![Power_Hayte](../Circuit_Electronics/CircuitElectronicsImages/PowerExample.PNG)\n",
    "\n",
    "from ENGINEERING CIRCUITANALYSIS, EIGHTH EDITION , William H. Hayt, and et. al.\n",
    " \n",
    "In above Fig. a, with +3 A flowing into the positive terminal, the absorbed power is \\( P = (2V)(3A) = 6W \\). In Fig. b, with -3 A flowing into the positive terminal, the absorbed power is \\( P = (-2V)(-3A) = 6W \\). In Fig. c, with -5 A flowing into the positive terminal and a voltage of 4V, the absorbed power is \\( P = (4V)(-5A) = -20W \\), indicating the element is supplying +20W of power.\n",
    "\n"
   ]
  }
 ],
 "metadata": {
  "language_info": {
   "name": "python"
  }
 },
 "nbformat": 4,
 "nbformat_minor": 2
}
